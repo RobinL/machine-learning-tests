{
 "cells": [
  {
   "cell_type": "code",
   "execution_count": 93,
   "metadata": {
    "collapsed": false
   },
   "outputs": [],
   "source": [
    "#Simulate simple regression model\n",
    "\n",
    "n_features <- 5\n",
    "n_obs <- 1000\n",
    "\n",
    "X <- matrix(rnorm(n_obs*n_features),ncol=n_features)\n",
    "b <- c(1,2,3,4,5)\n",
    "e <- rnorm(n_obs)\n",
    "\n",
    "y <- X %*%b + e\n",
    "\n",
    "df <- data.frame(y,X,e)"
   ]
  },
  {
   "cell_type": "code",
   "execution_count": 94,
   "metadata": {
    "collapsed": false
   },
   "outputs": [],
   "source": [
    "library(caret)\n",
    "set.seed(1)"
   ]
  },
  {
   "cell_type": "code",
   "execution_count": 95,
   "metadata": {
    "collapsed": false
   },
   "outputs": [],
   "source": [
    "in_training <- createDataPartition(df$y, p=0.7500, list=FALSE)\n",
    "training_set <- df[in_training,]\n",
    "test_set <- df[-in_training,]"
   ]
  },
  {
   "cell_type": "code",
   "execution_count": 96,
   "metadata": {
    "collapsed": false
   },
   "outputs": [
    {
     "data": {
      "text/html": [
       "752"
      ],
      "text/latex": [
       "752"
      ],
      "text/markdown": [
       "752"
      ],
      "text/plain": [
       "[1] 752"
      ]
     },
     "execution_count": 96,
     "metadata": {},
     "output_type": "execute_result"
    }
   ],
   "source": [
    "nrow(training_set)"
   ]
  },
  {
   "cell_type": "code",
   "execution_count": 97,
   "metadata": {
    "collapsed": false
   },
   "outputs": [],
   "source": [
    "lm_fit <- train(y~. , data=training_set[,-7], method=\"lm\")"
   ]
  },
  {
   "cell_type": "code",
   "execution_count": 98,
   "metadata": {
    "collapsed": false
   },
   "outputs": [
    {
     "data": {
      "text/plain": [
       "Linear Regression \n",
       "\n",
       "752 samples\n",
       "  5 predictor\n",
       "\n",
       "No pre-processing\n",
       "Resampling: Bootstrapped (25 reps) \n",
       "Summary of sample sizes: 752, 752, 752, 752, 752, 752, ... \n",
       "Resampling results\n",
       "\n",
       "  RMSE      Rsquared   RMSE SD     Rsquared SD\n",
       "  1.012009  0.9805436  0.04115774  0.00213932 \n",
       "\n",
       " "
      ]
     },
     "execution_count": 98,
     "metadata": {},
     "output_type": "execute_result"
    }
   ],
   "source": [
    "lm_fit"
   ]
  },
  {
   "cell_type": "code",
   "execution_count": 37,
   "metadata": {
    "collapsed": false,
    "scrolled": false
   },
   "outputs": [
    {
     "data": {
      "text/html": [
       "<dl class=dl-horizontal>\n",
       "\t<dt>(Intercept)</dt>\n",
       "\t\t<dd>-0.0735594061538271</dd>\n",
       "\t<dt>X1</dt>\n",
       "\t\t<dd>0.91259998061323</dd>\n",
       "\t<dt>X2</dt>\n",
       "\t\t<dd>2.0179312455146</dd>\n",
       "\t<dt>X3</dt>\n",
       "\t\t<dd>2.95189339641936</dd>\n",
       "\t<dt>X4</dt>\n",
       "\t\t<dd>3.99097109645033</dd>\n",
       "\t<dt>X5</dt>\n",
       "\t\t<dd>5.00495820470669</dd>\n",
       "</dl>\n"
      ],
      "text/latex": [
       "\\begin{description*}\n",
       "\\item[(Intercept)] -0.0735594061538271\n",
       "\\item[X1] 0.91259998061323\n",
       "\\item[X2] 2.0179312455146\n",
       "\\item[X3] 2.95189339641936\n",
       "\\item[X4] 3.99097109645033\n",
       "\\item[X5] 5.00495820470669\n",
       "\\end{description*}\n"
      ],
      "text/markdown": [
       "(Intercept)\n",
       ":   -0.0735594061538271X1\n",
       ":   0.91259998061323X2\n",
       ":   2.0179312455146X3\n",
       ":   2.95189339641936X4\n",
       ":   3.99097109645033X5\n",
       ":   5.00495820470669\n",
       "\n"
      ],
      "text/plain": [
       "(Intercept)          X1          X2          X3          X4          X5 \n",
       "-0.07355941  0.91259998  2.01793125  2.95189340  3.99097110  5.00495820 "
      ]
     },
     "execution_count": 37,
     "metadata": {},
     "output_type": "execute_result"
    }
   ],
   "source": [
    "lm_fit$finalModel$coefficients"
   ]
  },
  {
   "cell_type": "code",
   "execution_count": 38,
   "metadata": {
    "collapsed": false
   },
   "outputs": [
    {
     "data": {
      "text/plain": [
       "\n",
       "Call:\n",
       "lm(formula = y ~ ., data = training_set[, -7])\n",
       "\n",
       "Coefficients:\n",
       "(Intercept)           X1           X2           X3           X4           X5  \n",
       "   -0.07356      0.91260      2.01793      2.95189      3.99097      5.00496  \n"
      ]
     },
     "execution_count": 38,
     "metadata": {},
     "output_type": "execute_result"
    }
   ],
   "source": [
    "lm(y~. , data=training_set[,-7])"
   ]
  },
  {
   "cell_type": "code",
   "execution_count": 76,
   "metadata": {
    "collapsed": false
   },
   "outputs": [
    {
     "data": {
      "text/plain": [
       "loess r-squared variable importance\n",
       "\n",
       "   Overall\n",
       "X5 100.000\n",
       "X4   8.195\n",
       "X1   3.127\n",
       "X2   2.579\n",
       "X3   0.000"
      ]
     },
     "execution_count": 76,
     "metadata": {},
     "output_type": "execute_result"
    }
   ],
   "source": [
    "varImp(lm_fit)"
   ]
  },
  {
   "cell_type": "code",
   "execution_count": 95,
   "metadata": {
    "collapsed": false
   },
   "outputs": [
    {
     "ename": "ERROR",
     "evalue": "Error in library(glmnet): there is no package called 'glmnet'\n",
     "output_type": "error",
     "traceback": [
      "Error in library(glmnet): there is no package called 'glmnet'\n"
     ]
    }
   ],
   "source": [
    "library(glmnet)"
   ]
  },
  {
   "cell_type": "code",
   "execution_count": 97,
   "metadata": {
    "collapsed": false
   },
   "outputs": [
    {
     "name": "stdout",
     "output_type": "stream",
     "text": [
      "package 'glmnet' successfully unpacked and MD5 sums checked\n",
      "\n",
      "The downloaded binary packages are in\n",
      "\tC:\\Users\\Robin\\AppData\\Local\\Temp\\RtmpmAgj9I\\downloaded_packages\n"
     ]
    }
   ],
   "source": [
    "install.packages(\"glmnet\")"
   ]
  },
  {
   "cell_type": "code",
   "execution_count": 98,
   "metadata": {
    "collapsed": false
   },
   "outputs": [
    {
     "name": "stderr",
     "output_type": "stream",
     "text": [
      "Loading required package: glmnet\n",
      "Loading required package: Matrix\n",
      "Loading required package: foreach\n",
      "Loaded glmnet 2.0-2\n",
      "\n"
     ]
    }
   ],
   "source": [
    "lm_fit <- train(y~. , data=training_set[,-7], method=\"glmnet\")"
   ]
  },
  {
   "cell_type": "code",
   "execution_count": 99,
   "metadata": {
    "collapsed": false
   },
   "outputs": [
    {
     "data": {
      "text/plain": [
       "glmnet \n",
       "\n",
       "75000 samples\n",
       "    5 predictor\n",
       "\n",
       "No pre-processing\n",
       "Resampling: Bootstrapped (25 reps) \n",
       "Summary of sample sizes: 75000, 75000, 75000, 75000, 75000, 75000, ... \n",
       "Resampling results across tuning parameters:\n",
       "\n",
       "  alpha  lambda      RMSE       Rsquared   RMSE SD     Rsquared SD \n",
       "  0.10    0.1997971   3.001115  0.9998856  0.01295252  1.226489e-06\n",
       "  0.10    1.9979708   3.001115  0.9998856  0.01295252  1.226489e-06\n",
       "  0.10   19.9797077  17.234579  0.9994408  0.09235105  2.294503e-05\n",
       "  0.55    0.1997971   2.996780  0.9996677  0.01569913  4.154111e-06\n",
       "  0.55    1.9979708   2.996780  0.9996677  0.01569913  4.154111e-06\n",
       "  0.55   19.9797077  20.875250  0.9898608  0.10412874  9.825615e-05\n",
       "  1.00    0.1997971   3.008433  0.9995053  0.08948041  2.605533e-05\n",
       "  1.00    1.9979708   3.170369  0.9994630  0.01722750  6.862683e-06\n",
       "  1.00   19.9797077  22.364649  0.9898608  0.11580765  9.825615e-05\n",
       "\n",
       "RMSE was used to select the optimal model using  the smallest value.\n",
       "The final values used for the model were alpha = 0.55 and lambda = 1.997971. "
      ]
     },
     "execution_count": 99,
     "metadata": {},
     "output_type": "execute_result"
    }
   ],
   "source": [
    "lm_fit"
   ]
  },
  {
   "cell_type": "code",
   "execution_count": 100,
   "metadata": {
    "collapsed": false
   },
   "outputs": [
    {
     "data": {
      "text/plain": [
       "            Length Class      Mode     \n",
       "a0           48    -none-     numeric  \n",
       "beta        240    dgCMatrix  S4       \n",
       "df           48    -none-     numeric  \n",
       "dim           2    -none-     numeric  \n",
       "lambda       48    -none-     numeric  \n",
       "dev.ratio    48    -none-     numeric  \n",
       "nulldev       1    -none-     numeric  \n",
       "npasses       1    -none-     numeric  \n",
       "jerr          1    -none-     numeric  \n",
       "offset        1    -none-     logical  \n",
       "call          5    -none-     call     \n",
       "nobs          1    -none-     numeric  \n",
       "lambdaOpt     1    -none-     numeric  \n",
       "xNames        5    -none-     character\n",
       "problemType   1    -none-     character\n",
       "tuneValue     2    data.frame list     \n",
       "obsLevels     1    -none-     logical  "
      ]
     },
     "execution_count": 100,
     "metadata": {},
     "output_type": "execute_result"
    }
   ],
   "source": [
    "summary(lm_fit)"
   ]
  },
  {
   "cell_type": "code",
   "execution_count": 103,
   "metadata": {
    "collapsed": false
   },
   "outputs": [
    {
     "ename": "ERROR",
     "evalue": "Error in eval(expr, envir, enclos): could not find function \"parameters\"\n",
     "output_type": "error",
     "traceback": [
      "Error in eval(expr, envir, enclos): could not find function \"parameters\"\n"
     ]
    }
   ],
   "source": [
    "parameters(lm_fit)"
   ]
  },
  {
   "cell_type": "code",
   "execution_count": null,
   "metadata": {
    "collapsed": true
   },
   "outputs": [],
   "source": []
  }
 ],
 "metadata": {
  "kernelspec": {
   "display_name": "R",
   "language": "R",
   "name": "ir"
  },
  "language_info": {
   "codemirror_mode": "r",
   "file_extension": ".r",
   "mimetype": "text/x-r-source",
   "name": "R",
   "pygments_lexer": "r",
   "version": "3.1.3"
  }
 },
 "nbformat": 4,
 "nbformat_minor": 0
}
